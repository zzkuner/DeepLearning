{
 "cells": [
  {
   "cell_type": "code",
   "execution_count": 7,
   "id": "b11ba33b-8e3a-4cbf-ac80-23e2d7f093f2",
   "metadata": {},
   "outputs": [],
   "source": [
    "abc= 0xaa"
   ]
  },
  {
   "cell_type": "markdown",
   "id": "f051d2ac-ae46-4fe7-b46c-b71f7795d2d9",
   "metadata": {},
   "source": [
    "1111"
   ]
  },
  {
   "cell_type": "code",
   "execution_count": 8,
   "id": "0fc9a914-76ee-4f1d-bffe-db1341bd1af0",
   "metadata": {},
   "outputs": [],
   "source": [
    "# abc = input(\"input\")"
   ]
  },
  {
   "cell_type": "code",
   "execution_count": 9,
   "id": "23880e3e-fcad-489f-90e6-5e94aa01ad46",
   "metadata": {
    "scrolled": true
   },
   "outputs": [
    {
     "name": "stdout",
     "output_type": "stream",
     "text": [
      "170\n"
     ]
    }
   ],
   "source": [
    "print(abc)"
   ]
  },
  {
   "cell_type": "code",
   "execution_count": 10,
   "id": "2918d74c-a752-4637-8129-d55fd1048379",
   "metadata": {},
   "outputs": [
    {
     "data": {
      "text/plain": [
       "140725147840720"
      ]
     },
     "execution_count": 10,
     "metadata": {},
     "output_type": "execute_result"
    }
   ],
   "source": [
    "id(0xaa)"
   ]
  },
  {
   "cell_type": "code",
   "execution_count": null,
   "id": "9df54746-b57a-4e9c-a3e2-80fefc46c3dd",
   "metadata": {},
   "outputs": [],
   "source": []
  }
 ],
 "metadata": {
  "kernelspec": {
   "display_name": "Python 3 (ipykernel)",
   "language": "python",
   "name": "python3"
  },
  "language_info": {
   "codemirror_mode": {
    "name": "ipython",
    "version": 3
   },
   "file_extension": ".py",
   "mimetype": "text/x-python",
   "name": "python",
   "nbconvert_exporter": "python",
   "pygments_lexer": "ipython3",
   "version": "3.8.20"
  }
 },
 "nbformat": 4,
 "nbformat_minor": 5
}
